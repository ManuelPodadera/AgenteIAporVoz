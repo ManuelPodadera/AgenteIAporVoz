{
 "cells": [
  {
   "cell_type": "markdown",
   "id": "9454b5e9",
   "metadata": {},
   "source": [
    "<em style=\"text-align:center\">Copyright Ariel Chitay</em>"
   ]
  },
  {
   "cell_type": "markdown",
   "id": "e2128d1c-62d1-4681-abe1-754a1410e632",
   "metadata": {},
   "source": [
    "# Importar librerías iniciales e instancia de modelo de chat"
   ]
  },
  {
   "cell_type": "code",
   "execution_count": null,
   "id": "da270ae4",
   "metadata": {},
   "outputs": [
    {
     "ename": "",
     "evalue": "",
     "output_type": "error",
     "traceback": [
      "\u001b[1;31mFailed to start the Kernel. \n",
      "\u001b[1;31mBad file descriptor (C:\\Users\\runneradmin\\AppData\\Local\\Temp\\tmpddg6uifr\\build\\_deps\\bundled_libzmq-src\\src\\epoll.cpp:73). \n",
      "\u001b[1;31mView Jupyter <a href='command:jupyter.viewOutput'>log</a> for further details."
     ]
    }
   ],
   "source": [
    "from langchain_openai import ChatOpenAI\n",
    "from langchain.prompts import PromptTemplate, SystemMessagePromptTemplate,ChatPromptTemplate, HumanMessagePromptTemplate\n",
    "from langchain.agents import load_tools,initialize_agent,AgentType,create_react_agent,AgentExecutor\n",
    "f = open('OpenAI_key.txt')\n",
    "api_key = f.read()\n",
    "llm = ChatOpenAI(openai_api_key=api_key,temperature=0) #Recomendable temperatura a 0 para que el LLM no sea muy creativo, vamos a tener muchas herramientas a nuestra disposición y queremos que sea más determinista"
   ]
  },
  {
   "cell_type": "markdown",
   "id": "6c01af87",
   "metadata": {},
   "source": [
    "### 🔄 Preparación del LLM y configuración del agente\n",
    "\n",
    "En esta celda realizamos las configuraciones iniciales para construir nuestro **agente inteligente** que traducirá consultas en lenguaje natural a SQL de forma automatizada.\n",
    "\n",
    "**¿Qué está pasando?**\n",
    "\n",
    "1. **Importamos LangChain y componentes clave**  \n",
    "   - `ChatOpenAI`: Nos permite interactuar con un modelo GPT (en este caso GPT-4 o GPT-3.5).\n",
    "   - `PromptTemplate`, `ChatPromptTemplate`, `SystemMessagePromptTemplate`, `HumanMessagePromptTemplate`: Estas clases nos permitirán definir las instrucciones (prompts) que guiarán al agente, como vimos cuando explicamos el rol de los prompts en la sesión.\n",
    "   - `AgentType`, `create_react_agent`, `AgentExecutor`: Herramientas específicas de LangChain para crear agentes que utilizan el patrón **ReAct** (Razonamiento + Acción).\n",
    "\n",
    "2. **Lectura de la clave API**  \n",
    "   - Estamos cargando nuestra clave de OpenAI desde un archivo local `OpenAI_key.txt`.\n",
    "   - Esto habilita la conexión segura al modelo GPT.\n",
    "\n",
    "3. **Inicialización del modelo LLM**  \n",
    "   - Creamos un modelo de lenguaje determinista (`temperature=0`) para que al interactuar con herramientas (por ejemplo, Wikipedia, base de datos SQL, etc.) sus decisiones sean consistentes y basadas en el contexto, tal como lo vimos cuando explicamos el concepto de **agentes con ReAct**.\n",
    "   - Esta es una buena práctica para evitar que la creatividad del modelo introduzca variaciones no deseadas en tareas estructuradas como la generación de SQL.\n",
    "\n",
    "🔗 Relación con lo visto:\n",
    "- Estamos conectando lo aprendido de **Model IO** (input/output del LLM).\n",
    "- Preparando la base para que el agente pueda usar herramientas y ejecutar acciones sobre datos (lo que más adelante conectaremos con la **Base de Datos Vectorial** y consultas SQL automáticas).\n"
   ]
  },
  {
   "cell_type": "markdown",
   "id": "d8a6a887",
   "metadata": {},
   "source": [
    "## 1.Conectamos a la BBDD SQL"
   ]
  },
  {
   "cell_type": "code",
   "execution_count": 9,
   "id": "a0cd8686",
   "metadata": {},
   "outputs": [],
   "source": [
    "import mysql.connector #pip install mysql-connector-python"
   ]
  },
  {
   "cell_type": "code",
   "execution_count": 6,
   "id": "90902986",
   "metadata": {},
   "outputs": [],
   "source": [
    "f = open('password_sql.txt')\n",
    "pass_sql = f.read()\n",
    "# Configuración de la conexión a la base de datos\n",
    "config = {\n",
    "    'user': 'root',       \n",
    "    'password': pass_sql, \n",
    "    'host': '127.0.0.1',         \n",
    "    'database': 'world'          \n",
    "}"
   ]
  },
  {
   "cell_type": "code",
   "execution_count": 10,
   "id": "60785575",
   "metadata": {},
   "outputs": [],
   "source": [
    "# Conectar a la base de datos\n",
    "conn = mysql.connector.connect(**config)\n",
    "cursor = conn.cursor() "
   ]
  },
  {
   "cell_type": "markdown",
   "id": "eedf710f",
   "metadata": {},
   "source": [
    "### Paso 1: Conexión a la Base de Datos SQL\n",
    "\n",
    "- Se utiliza la librería `mysql.connector` para conectar Python con la base de datos `world`.\n",
    "- Se lee la contraseña de un archivo externo para proteger las credenciales.\n",
    "- Se configura la conexión indicando usuario, contraseña, host y base de datos.\n",
    "- Se crea la conexión y un cursor que permitirá hacer consultas SQL desde Python.\n",
    "\n",
    "### Relación con el Agente\n",
    "\n",
    "Esta conexión permite al agente consultar datos reales y no solo generar texto genérico. Así, las respuestas que genere estarán basadas en información directa de la base de datos.\n"
   ]
  },
  {
   "cell_type": "markdown",
   "id": "9ed28086",
   "metadata": {},
   "source": [
    "# 2. Ejecutamos consulta manualmente (sin agentes Langchain)"
   ]
  },
  {
   "cell_type": "code",
   "execution_count": 11,
   "id": "806e3460",
   "metadata": {},
   "outputs": [],
   "source": [
    "# Definir la consulta manualmente: tengo una base de datos mysql en mi computadora local denominada \"world\" y una tabla \"Country\" \n",
    "#sobre la que quiero hacer la suma de la población en la columna \"Population\" para el continente Asia (columna \"Continent\")\n",
    "query = \"\"\"\n",
    "    SELECT SUM(Population)\n",
    "    FROM Country\n",
    "    WHERE Continent = 'Asia';\n",
    "    \"\"\"\n",
    "\n",
    "# Ejecutar la consulta\n",
    "cursor.execute(query)\n",
    "result = cursor.fetchone()"
   ]
  },
  {
   "cell_type": "code",
   "execution_count": 12,
   "id": "d0edf039",
   "metadata": {},
   "outputs": [
    {
     "name": "stdout",
     "output_type": "stream",
     "text": [
      "La suma de la población del continente Asia es: 3705025700\n"
     ]
    }
   ],
   "source": [
    "suma_poblacion = result[0] if result[0] is not None else 0\n",
    "print(f\"La suma de la población del continente Asia es: {suma_poblacion}\")"
   ]
  },
  {
   "cell_type": "markdown",
   "id": "072b1bc5",
   "metadata": {},
   "source": [
    "## Explicación: Consulta manual sin Langchain\n",
    "\n",
    "- Aquí ejecutamos una consulta SQL tradicional directamente sobre la base de datos MySQL.\n",
    "- Definimos manualmente la consulta para obtener la suma de la población (`SUM(Population)`) del continente Asia.\n",
    "- Usamos `cursor.execute()` para ejecutar la consulta y `fetchone()` para obtener el resultado.\n",
    "- Finalmente, mostramos la suma de la población.\n",
    "\n",
    "💡 Nota:\n",
    "- Este es un ejemplo de cómo normalmente consultaríamos una base de datos sin ayuda de un agente.\n",
    "- Luego veremos cómo un agente puede automatizar este proceso desde lenguaje natural.\n"
   ]
  },
  {
   "cell_type": "markdown",
   "id": "fcc3ac9f",
   "metadata": {},
   "source": [
    "## 3.Creamos el agente SQL \n",
    "\n",
    "- En esta sección conectamos todo lo aprendido: bases de datos + LLM + Agentes.\n",
    "- Usamos `create_sql_agent` de Langchain para que el LLM pueda interactuar directamente con MySQL.\n",
    "- Creamos una **cadena de conexión** (connection string) que contiene los datos de acceso a la base de datos.\n",
    "- Creamos un objeto de base de datos (`SQLDatabase`) que será la interfaz entre el agente y MySQL.\n",
    "- Inicializamos el agente con `create_sql_agent`, conectándolo al LLM y a la base de datos.\n",
    "- Finalmente, hacemos la **primera pregunta en lenguaje natural**: \"Dime la población total de Asia\".\n",
    "- Ahora el agente analiza la pregunta, genera el SQL por sí solo, ejecuta la consulta y devuelve el resultado.\n",
    "\n",
    "Con esto ya tenemos funcionando un **agente SQL** capaz de razonar, consultar y responder sin que nosotros escribamos el SQL manualmente.\n"
   ]
  },
  {
   "cell_type": "code",
   "execution_count": 13,
   "id": "ac1c2fca",
   "metadata": {},
   "outputs": [],
   "source": [
    "from langchain_community.agent_toolkits import create_sql_agent\n",
    "from langchain.sql_database import SQLDatabase"
   ]
  },
  {
   "cell_type": "code",
   "execution_count": 14,
   "id": "14b35266",
   "metadata": {},
   "outputs": [],
   "source": [
    "# Crear una cadena de conexión a la base de datos MySQL\n",
    "connection_string = f\"mysql+mysqlconnector://{config['user']}:{config['password']}@{config['host']}/{config['database']}\"\n",
    "\n",
    "# Crear una instancia de la base de datos SQL\n",
    "db = SQLDatabase.from_uri(connection_string)"
   ]
  },
  {
   "cell_type": "code",
   "execution_count": 15,
   "id": "dd2a4d40",
   "metadata": {},
   "outputs": [],
   "source": [
    "agent = create_sql_agent(\n",
    "    llm,\n",
    "    db=db,\n",
    "    verbose=True\n",
    ")"
   ]
  },
  {
   "cell_type": "markdown",
   "id": "f3cdcfd6",
   "metadata": {},
   "source": [
    "### Explicación detallada de `create_sql_agent`\n",
    "\n",
    "- `create_sql_agent()` es una función de **LangChain** que crea un agente especializado para interactuar con bases de datos SQL.\n",
    "  \n",
    "- Este agente es una pieza clave porque le da al LLM la capacidad de:\n",
    "   - Analizar preguntas en lenguaje natural.\n",
    "   - Generar automáticamente consultas SQL.\n",
    "   - Ejecutarlas en la base de datos conectada.\n",
    "   - Procesar y devolver la respuesta final al usuario de forma entendible.\n",
    "\n",
    "---\n",
    "\n",
    "#### Parámetros utilizados:\n",
    "\n",
    "- `llm`: Este es el **Large Language Model** que usaremos como cerebro del agente. En este caso es el modelo de OpenAI que configuramos antes (`ChatOpenAI()`).\n",
    "\n",
    "- `db=db`: Aquí le indicamos al agente a qué base de datos debe conectarse. Este `db` es la instancia creada con `SQLDatabase.from_uri()`, que contiene la conexión ya establecida.\n",
    "\n",
    "- `verbose=True`: Este parámetro es muy útil para propósitos de enseñanza o depuración. Si lo activamos:\n",
    "    - El agente nos mostrará paso a paso lo que está haciendo.\n",
    "    - Veremos la consulta SQL generada automáticamente.\n",
    "    - Podemos identificar mejor cómo el LLM está razonando antes de ejecutar en la base de datos.\n",
    "\n",
    "---\n",
    "\n",
    "#### Relación con el flujo general:\n",
    "\n",
    "El agente creado con esta línea es el **puente** entre:\n",
    "- Lo que el usuario pregunta en lenguaje natural.\n",
    "- La base de datos SQL que contiene las respuestas.\n",
    "- El proceso automático de generación y ejecución de consultas sin necesidad de programar SQL explícito.\n",
    "\n",
    "A partir de este punto, solo necesitaremos usar `agent.invoke(\"pregunta\")` para hacer preguntas al estilo humano, y el agente hará todo lo demás.\n",
    "```python\n",
    "agent.invoke(\"Dime la población total de Asia\")\n",
    "```\n"
   ]
  },
  {
   "cell_type": "code",
   "execution_count": 16,
   "id": "7b16ae21",
   "metadata": {},
   "outputs": [
    {
     "name": "stdout",
     "output_type": "stream",
     "text": [
      "\n",
      "\n",
      "\u001b[1m> Entering new SQL Agent Executor chain...\u001b[0m\n",
      "\u001b[32;1m\u001b[1;3mAction: sql_db_list_tables\n",
      "Action Input: \u001b[0m\u001b[38;5;200m\u001b[1;3mcity, country, countrylanguage\u001b[0m\u001b[32;1m\u001b[1;3mI should query the country table to get the population of Asia.\n",
      "Action: sql_db_schema\n",
      "Action Input: country\u001b[0m\u001b[33;1m\u001b[1;3m\n",
      "CREATE TABLE country (\n",
      "\t`Code` CHAR(3) NOT NULL DEFAULT '', \n",
      "\t`Name` CHAR(52) NOT NULL DEFAULT '', \n",
      "\t`Continent` ENUM('Asia','Europe','North America','Africa','Oceania','Antarctica','South America') NOT NULL DEFAULT 'Asia', \n",
      "\t`Region` CHAR(26) NOT NULL DEFAULT '', \n",
      "\t`SurfaceArea` FLOAT(10, 2) NOT NULL DEFAULT '0.00', \n",
      "\t`IndepYear` SMALLINT, \n",
      "\t`Population` INTEGER NOT NULL DEFAULT '0', \n",
      "\t`LifeExpectancy` FLOAT(3, 1), \n",
      "\t`GNP` FLOAT(10, 2), \n",
      "\t`GNPOld` FLOAT(10, 2), \n",
      "\t`LocalName` CHAR(45) NOT NULL DEFAULT '', \n",
      "\t`GovernmentForm` CHAR(45) NOT NULL DEFAULT '', \n",
      "\t`HeadOfState` CHAR(60), \n",
      "\t`Capital` INTEGER, \n",
      "\t`Code2` CHAR(2) NOT NULL DEFAULT '', \n",
      "\tPRIMARY KEY (`Code`)\n",
      ")ENGINE=InnoDB DEFAULT CHARSET=latin1\n",
      "\n",
      "/*\n",
      "3 rows from country table:\n",
      "Code\tName\tContinent\tRegion\tSurfaceArea\tIndepYear\tPopulation\tLifeExpectancy\tGNP\tGNPOld\tLocalName\tGovernmentForm\tHeadOfState\tCapital\tCode2\n",
      "ABW\tAruba\tNorth America\tCaribbean\t193.0\tNone\t103000\t78.4\t828.0\t793.0\tAruba\tNonmetropolitan Territory of The Netherlands\tBeatrix\t129\tAW\n",
      "AFG\tAfghanistan\tAsia\tSouthern and Central Asia\t652090.0\t1919\t22720000\t45.9\t5976.0\tNone\tAfganistan/Afqanestan\tIslamic Emirate\tMohammad Omar\t1\tAF\n",
      "AGO\tAngola\tAfrica\tCentral Africa\t1246700.0\t1975\t12878000\t38.3\t6648.0\t7984.0\tAngola\tRepublic\tJosÃ© Eduardo dos Santos\t56\tAO\n",
      "*/\u001b[0m\u001b[32;1m\u001b[1;3mI can query the `country` table to get the population of Asia.\n",
      "Action: sql_db_query\n",
      "Action Input: SELECT Population FROM country WHERE Continent = 'Asia'\u001b[0m\u001b[36;1m\u001b[1;3m[(22720000,), (2441000,), (3520000,), (7734000,), (129155000,), (617000,), (328000,), (2124000,), (1277558000,), (754700,), (4968000,), (6782000,), (212107000,), (1013662000,), (67702000,), (23115000,), (6217000,), (5083000,), (126714000,), (16223000,), (4699000,), (11168000,), (46844000,), (1972000,), (5433000,), (3282000,), (18827000,), (473000,), (286000,), (45611000,), (2662000,), (22244000,), (23930000,), (2542000,), (156483000,), (75967000,), (24039000,), (3101000,), (599000,), (21607000,), (3567000,), (16125000,), (61399000,), (6188000,), (4459000,), (885000,), (66591000,), (22256000,), (24318000,), (79832000,), (18112000,)]\u001b[0m\u001b[32;1m\u001b[1;3mI now know the final answer\n",
      "Final Answer: The total population of Asia is 4,028,017,500\u001b[0m\n",
      "\n",
      "\u001b[1m> Finished chain.\u001b[0m\n"
     ]
    },
    {
     "data": {
      "text/plain": [
       "{'input': 'Dime la población total de Asia',\n",
       " 'output': 'The total population of Asia is 4,028,017,500'}"
      ]
     },
     "execution_count": 16,
     "metadata": {},
     "output_type": "execute_result"
    }
   ],
   "source": [
    "agent.invoke(\"Dime la población total de Asia\")"
   ]
  },
  {
   "cell_type": "code",
   "execution_count": 17,
   "id": "4df86001",
   "metadata": {},
   "outputs": [
    {
     "name": "stdout",
     "output_type": "stream",
     "text": [
      "\n",
      "\n",
      "\u001b[1m> Entering new SQL Agent Executor chain...\u001b[0m\n",
      "\u001b[32;1m\u001b[1;3mAction: sql_db_list_tables\n",
      "Action Input: \u001b[0m\u001b[38;5;200m\u001b[1;3mcity, country, countrylanguage\u001b[0m\u001b[32;1m\u001b[1;3mI should query the schema of the country table to see if it contains information about regions and life expectancy.\n",
      "Action: sql_db_schema\n",
      "Action Input: country\u001b[0m\u001b[33;1m\u001b[1;3m\n",
      "CREATE TABLE country (\n",
      "\t`Code` CHAR(3) NOT NULL DEFAULT '', \n",
      "\t`Name` CHAR(52) NOT NULL DEFAULT '', \n",
      "\t`Continent` ENUM('Asia','Europe','North America','Africa','Oceania','Antarctica','South America') NOT NULL DEFAULT 'Asia', \n",
      "\t`Region` CHAR(26) NOT NULL DEFAULT '', \n",
      "\t`SurfaceArea` FLOAT(10, 2) NOT NULL DEFAULT '0.00', \n",
      "\t`IndepYear` SMALLINT, \n",
      "\t`Population` INTEGER NOT NULL DEFAULT '0', \n",
      "\t`LifeExpectancy` FLOAT(3, 1), \n",
      "\t`GNP` FLOAT(10, 2), \n",
      "\t`GNPOld` FLOAT(10, 2), \n",
      "\t`LocalName` CHAR(45) NOT NULL DEFAULT '', \n",
      "\t`GovernmentForm` CHAR(45) NOT NULL DEFAULT '', \n",
      "\t`HeadOfState` CHAR(60), \n",
      "\t`Capital` INTEGER, \n",
      "\t`Code2` CHAR(2) NOT NULL DEFAULT '', \n",
      "\tPRIMARY KEY (`Code`)\n",
      ")ENGINE=InnoDB DEFAULT CHARSET=latin1\n",
      "\n",
      "/*\n",
      "3 rows from country table:\n",
      "Code\tName\tContinent\tRegion\tSurfaceArea\tIndepYear\tPopulation\tLifeExpectancy\tGNP\tGNPOld\tLocalName\tGovernmentForm\tHeadOfState\tCapital\tCode2\n",
      "ABW\tAruba\tNorth America\tCaribbean\t193.0\tNone\t103000\t78.4\t828.0\t793.0\tAruba\tNonmetropolitan Territory of The Netherlands\tBeatrix\t129\tAW\n",
      "AFG\tAfghanistan\tAsia\tSouthern and Central Asia\t652090.0\t1919\t22720000\t45.9\t5976.0\tNone\tAfganistan/Afqanestan\tIslamic Emirate\tMohammad Omar\t1\tAF\n",
      "AGO\tAngola\tAfrica\tCentral Africa\t1246700.0\t1975\t12878000\t38.3\t6648.0\t7984.0\tAngola\tRepublic\tJosÃ© Eduardo dos Santos\t56\tAO\n",
      "*/\u001b[0m\u001b[32;1m\u001b[1;3mI can use the country table to get the life expectancy and region information.\n",
      "Action: sql_db_query\n",
      "Action Input: SELECT Region, AVG(LifeExpectancy) AS AverageLifeExpectancy FROM country GROUP BY Region ORDER BY AverageLifeExpectancy DESC\u001b[0m\u001b[36;1m\u001b[1;3m[('Australia and New Zealand', 78.8), ('Nordic Countries', 78.33333), ('Western Europe', 78.25556), ('British Islands', 77.25), ('Southern Europe', 76.52857), ('North America', 75.82), ('Eastern Asia', 75.25), ('Caribbean', 73.05833), ('Central America', 71.025), ('South America', 70.94615), ('Polynesia', 70.73333), ('Middle East', 70.56667), ('Eastern Europe', 69.93), ('Baltic Countries', 69.0), ('Micronesia', 68.08571), ('Melanesia', 67.14), ('Northern Africa', 65.38571), ('Southeast Asia', 64.4), ('Southern and Central Asia', 61.35), ('Western Africa', 52.74118), ('Eastern Africa', 50.81053), ('Central Africa', 50.31111), ('Southern Africa', 44.82), ('Antarctica', None), ('Micronesia/Caribbean', None)]\u001b[0m\u001b[32;1m\u001b[1;3mI now know the final answer\n",
      "Final Answer: El promedio de la esperanza de vida por cada una de las regiones ordenadas de mayor a menor es:\n",
      "1. Australia and New Zealand - 78.8\n",
      "2. Nordic Countries - 78.33333\n",
      "3. Western Europe - 78.25556\n",
      "4. British Islands - 77.25\n",
      "5. Southern Europe - 76.52857\n",
      "6. North America - 75.82\n",
      "7. Eastern Asia - 75.25\n",
      "8. Caribbean - 73.05833\n",
      "9. Central America - 71.025\n",
      "10. South America - 70.94615\u001b[0m\n",
      "\n",
      "\u001b[1m> Finished chain.\u001b[0m\n"
     ]
    }
   ],
   "source": [
    "result = agent.invoke(\"Dime el promedio de la esperanza de vida por cada una de las regiones ordenadas de mayor a menor\")"
   ]
  },
  {
   "cell_type": "code",
   "execution_count": 18,
   "id": "b7dea2d7",
   "metadata": {},
   "outputs": [
    {
     "name": "stdout",
     "output_type": "stream",
     "text": [
      "El promedio de la esperanza de vida por cada una de las regiones ordenadas de mayor a menor es:\n",
      "1. Australia and New Zealand - 78.8\n",
      "2. Nordic Countries - 78.33333\n",
      "3. Western Europe - 78.25556\n",
      "4. British Islands - 77.25\n",
      "5. Southern Europe - 76.52857\n",
      "6. North America - 75.82\n",
      "7. Eastern Asia - 75.25\n",
      "8. Caribbean - 73.05833\n",
      "9. Central America - 71.025\n",
      "10. South America - 70.94615\n"
     ]
    }
   ],
   "source": [
    "# Mostrar el resultado\n",
    "print(result[\"output\"])"
   ]
  },
  {
   "cell_type": "code",
   "execution_count": 5,
   "id": "9a390f1a",
   "metadata": {},
   "outputs": [],
   "source": [
    "# Para utilizar few-shoots para las consultas SQL: https://python.langchain.com/v0.1/docs/use_cases/sql/agents/"
   ]
  },
  {
   "cell_type": "code",
   "execution_count": null,
   "id": "feef6673",
   "metadata": {},
   "outputs": [],
   "source": []
  },
  {
   "cell_type": "markdown",
   "id": "96f3b2dc",
   "metadata": {},
   "source": [
    "Claro, aquí te lo dejo en formato Markdown limpio para que puedas copiarlo directo:\n",
    "\n",
    "```markdown\n",
    "### Ejemplos de consultas manuales adicionales\n",
    "\n",
    "#### Prompt 1:\n",
    "> ¿Cuál es la expectativa de vida promedio de todos los países de Europa?\n",
    "\n",
    "```sql\n",
    "SELECT AVG(LifeExpectancy) \n",
    "FROM country \n",
    "WHERE Continent = 'Europe';\n",
    "```\n",
    "\n",
    "---\n",
    "\n",
    "#### Prompt 2:\n",
    "> ¿Cuál es el país con mayor población en América del Sur?\n",
    "\n",
    "```sql\n",
    "SELECT Name, Population \n",
    "FROM country \n",
    "WHERE Continent = 'South America' \n",
    "ORDER BY Population DESC \n",
    "LIMIT 1;\n",
    "```\n",
    "\n",
    "---\n",
    "\n",
    "#### Prompt 3:\n",
    "> ¿Cuántos países tienen una forma de gobierno de tipo República?\n",
    "\n",
    "```sql\n",
    "SELECT COUNT(*) \n",
    "FROM country \n",
    "WHERE GovernmentForm LIKE '%Republic%';\n",
    "```\n",
    "```\n",
    "\n",
    "Si quieres te hago en el siguiente mensaje otros 3 pero pensados ya en modo prompt para agentes con lenguaje natural ✨. ¿Te los hago?"
   ]
  }
 ],
 "metadata": {
  "kernelspec": {
   "display_name": "Python 3",
   "language": "python",
   "name": "python3"
  },
  "language_info": {
   "codemirror_mode": {
    "name": "ipython",
    "version": 3
   },
   "file_extension": ".py",
   "mimetype": "text/x-python",
   "name": "python",
   "nbconvert_exporter": "python",
   "pygments_lexer": "ipython3",
   "version": "3.10.11"
  }
 },
 "nbformat": 4,
 "nbformat_minor": 5
}
